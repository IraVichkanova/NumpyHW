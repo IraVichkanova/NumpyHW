{
 "cells": [
  {
   "cell_type": "markdown",
   "id": "b45ffad0",
   "metadata": {},
   "source": [
    "1. Провести дисперсионный анализ для определения того, есть ли различия среднего роста среди взрослых футболистов, хоккеистов и штангистов. Даны значения роста в трех группах случайно выбранных спортсменов: Футболисты: 173, 175, 180, 178, 177, 185, 183, 182. Хоккеисты: 177, 179, 180, 188, 177, 172, 171, 184, 180. Штангисты: 172, 173, 169, 177, 166, 180, 178, 177, 172, 166, 170. alpha = 0.05.\n",
    "2. Прикрепить ссылку на курсовой проект на github."
   ]
  },
  {
   "cell_type": "code",
   "execution_count": 1,
   "id": "1db5ffe7",
   "metadata": {},
   "outputs": [],
   "source": [
    "import numpy as np\n",
    "from scipy import stats"
   ]
  },
  {
   "cell_type": "markdown",
   "id": "8e7bdb3f",
   "metadata": {},
   "source": [
    "## Выполнение задания 1"
   ]
  },
  {
   "cell_type": "code",
   "execution_count": 3,
   "id": "3cc11582",
   "metadata": {},
   "outputs": [],
   "source": [
    "footpl = np.array([173, 175, 180, 178, 177, 185, 183, 182])\n",
    "hockpl = np.array([177, 179, 180, 188, 177, 172, 171, 184, 180])\n",
    "liftpl = np.array([172, 173, 169, 177, 166, 180, 178, 177, 172, 166, 170])\n",
    "\n",
    "r1 = footpl.shape[0]\n",
    "r2 = hockpl.shape[0]\n",
    "r3 = liftpl.shape[0]"
   ]
  },
  {
   "cell_type": "markdown",
   "id": "0e09bb04",
   "metadata": {},
   "source": [
    "### Определение среднего роста по каждой выборке"
   ]
  },
  {
   "cell_type": "code",
   "execution_count": 4,
   "id": "41731867",
   "metadata": {},
   "outputs": [
    {
     "data": {
      "text/plain": [
       "(179.125, 178.66666666666666, 172.72727272727272)"
      ]
     },
     "execution_count": 4,
     "metadata": {},
     "output_type": "execute_result"
    }
   ],
   "source": [
    "footpl_meam = footpl.mean()\n",
    "hockpl_meam = hockpl.mean()\n",
    "liftpl_meam = liftpl.mean()\n",
    "\n",
    "footpl_meam, hockpl_meam, liftpl_meam"
   ]
  },
  {
   "cell_type": "markdown",
   "id": "f0aa1c85",
   "metadata": {},
   "source": [
    "Вывод по среднему значению: средний рост футболистов немного отличается от среднего роста хоккеистов. Более значимое разница со штангистами"
   ]
  },
  {
   "cell_type": "markdown",
   "id": "ea413077",
   "metadata": {},
   "source": [
    "Проверка стат.значимости"
   ]
  },
  {
   "cell_type": "code",
   "execution_count": 5,
   "id": "01429dfc",
   "metadata": {},
   "outputs": [
    {
     "name": "stdout",
     "output_type": "stream",
     "text": [
      "[173 175 180 178 177 185 183 182 177 179 180 188 177 172 171 184 180 172\n",
      " 173 169 177 166 180 178 177 172 166 170]\n"
     ]
    }
   ],
   "source": [
    "m = np.concatenate([footpl, hockpl, liftpl])\n",
    "print(m)"
   ]
  },
  {
   "cell_type": "code",
   "execution_count": 6,
   "id": "3cf28abe",
   "metadata": {},
   "outputs": [
    {
     "data": {
      "text/plain": [
       "176.46428571428572"
      ]
     },
     "execution_count": 6,
     "metadata": {},
     "output_type": "execute_result"
    }
   ],
   "source": [
    "m_mean = m.mean()\n",
    "m_mean"
   ]
  },
  {
   "cell_type": "markdown",
   "id": "65ee15fb",
   "metadata": {},
   "source": [
    "Поиск суммы квадратов отклонений и остаточной суммы квадрвтов отклонений"
   ]
  },
  {
   "cell_type": "code",
   "execution_count": 7,
   "id": "0a3d4c16",
   "metadata": {},
   "outputs": [],
   "source": [
    "S2_f = r1*(footpl_meam - m_mean)**2 + r2*(hockpl_meam - m_mean)**2 + r3*(liftpl_meam - m_mean)**2\n",
    "S2_rest = ((footpl - footpl_meam)**2).sum() + ((hockpl - hockpl_meam)**2).sum() +((liftpl - liftpl_meam)**2).sum()"
   ]
  },
  {
   "cell_type": "code",
   "execution_count": 8,
   "id": "159e0806",
   "metadata": {},
   "outputs": [
    {
     "data": {
      "text/plain": [
       "(253.9074675324678, 577.0568181818182)"
      ]
     },
     "execution_count": 8,
     "metadata": {},
     "output_type": "execute_result"
    }
   ],
   "source": [
    "S2_f, S2_rest"
   ]
  },
  {
   "cell_type": "markdown",
   "id": "662cffe7",
   "metadata": {},
   "source": [
    "Сумма квадратов отклонений наблюдений от общего среднего равна:"
   ]
  },
  {
   "cell_type": "code",
   "execution_count": 9,
   "id": "621d1140",
   "metadata": {},
   "outputs": [
    {
     "data": {
      "text/plain": [
       "830.964285714286"
      ]
     },
     "execution_count": 9,
     "metadata": {},
     "output_type": "execute_result"
    }
   ],
   "source": [
    "S2_f + S2_rest"
   ]
  },
  {
   "cell_type": "markdown",
   "id": "719a3cec",
   "metadata": {},
   "source": [
    "Проверка через среднее"
   ]
  },
  {
   "cell_type": "code",
   "execution_count": 10,
   "id": "2b96699e",
   "metadata": {},
   "outputs": [
    {
     "data": {
      "text/plain": [
       "830.9642857142854"
      ]
     },
     "execution_count": 10,
     "metadata": {},
     "output_type": "execute_result"
    }
   ],
   "source": [
    "((m - m_mean)**2).sum()"
   ]
  },
  {
   "cell_type": "markdown",
   "id": "4ed7878a",
   "metadata": {},
   "source": [
    "Оценка дисперсии:"
   ]
  },
  {
   "cell_type": "code",
   "execution_count": 11,
   "id": "2328c091",
   "metadata": {},
   "outputs": [
    {
     "data": {
      "text/plain": [
       "(126.9537337662339, 23.08227272727273)"
      ]
     },
     "execution_count": 11,
     "metadata": {},
     "output_type": "execute_result"
    }
   ],
   "source": [
    "n = 3\n",
    "l = r1 + r2 + r3\n",
    "\n",
    "n1 = n-1\n",
    "n2 = l - n\n",
    "\n",
    "sigma2_f = S2_f/n1\n",
    "sigma2_rest = S2_rest/n2\n",
    "\n",
    "sigma2_f, sigma2_rest"
   ]
  },
  {
   "cell_type": "markdown",
   "id": "3ab16e41",
   "metadata": {},
   "source": [
    "Расчет значения статистики:"
   ]
  },
  {
   "cell_type": "code",
   "execution_count": 12,
   "id": "c0cdc8e0",
   "metadata": {},
   "outputs": [],
   "source": [
    "T = sigma2_f/sigma2_rest"
   ]
  },
  {
   "cell_type": "code",
   "execution_count": 13,
   "id": "b19625e7",
   "metadata": {},
   "outputs": [
    {
     "data": {
      "text/plain": [
       "5.500053450812598"
      ]
     },
     "execution_count": 13,
     "metadata": {},
     "output_type": "execute_result"
    }
   ],
   "source": [
    "T"
   ]
  },
  {
   "cell_type": "markdown",
   "id": "c909ce27",
   "metadata": {},
   "source": [
    "Уровень значимости составляет 0.05. Для него критическое значение равно:"
   ]
  },
  {
   "cell_type": "code",
   "execution_count": 14,
   "id": "b93a5a80",
   "metadata": {},
   "outputs": [
    {
     "data": {
      "text/plain": [
       "3.3851899614491687"
      ]
     },
     "execution_count": 14,
     "metadata": {},
     "output_type": "execute_result"
    }
   ],
   "source": [
    "alpha = 0.05\n",
    "F_crit = stats.f.ppf(1 - alpha, n1, n2)\n",
    "F_crit"
   ]
  },
  {
   "cell_type": "markdown",
   "id": "41a27226",
   "metadata": {},
   "source": [
    "Вывод: значение статистики больще, чем критическое значение. Следовательно, отличие в росте представленных групп спортсменов дейсвтительно является статистичекси значимым фактором."
   ]
  },
  {
   "cell_type": "code",
   "execution_count": null,
   "id": "6418749b",
   "metadata": {},
   "outputs": [],
   "source": []
  }
 ],
 "metadata": {
  "kernelspec": {
   "display_name": "Python 3 (ipykernel)",
   "language": "python",
   "name": "python3"
  },
  "language_info": {
   "codemirror_mode": {
    "name": "ipython",
    "version": 3
   },
   "file_extension": ".py",
   "mimetype": "text/x-python",
   "name": "python",
   "nbconvert_exporter": "python",
   "pygments_lexer": "ipython3",
   "version": "3.9.13"
  }
 },
 "nbformat": 4,
 "nbformat_minor": 5
}
