{
 "cells": [
  {
   "cell_type": "code",
   "execution_count": 16,
   "id": "dfca936d",
   "metadata": {},
   "outputs": [],
   "source": [
    "from sympy import *\n",
    "import math"
   ]
  },
  {
   "cell_type": "markdown",
   "id": "9f5bfadc",
   "metadata": {},
   "source": [
    "## 1"
   ]
  },
  {
   "cell_type": "code",
   "execution_count": 19,
   "id": "0ae9c617",
   "metadata": {},
   "outputs": [],
   "source": [
    "f = (x+2)/(x*x+x+1)"
   ]
  },
  {
   "cell_type": "code",
   "execution_count": 20,
   "id": "af1ca34e",
   "metadata": {},
   "outputs": [
    {
     "data": {
      "text/latex": [
       "$\\displaystyle \\frac{x + 2}{x^{2} + x + 1}$"
      ],
      "text/plain": [
       "(x + 2)/(x**2 + x + 1)"
      ]
     },
     "execution_count": 20,
     "metadata": {},
     "output_type": "execute_result"
    }
   ],
   "source": [
    "f"
   ]
  },
  {
   "cell_type": "code",
   "execution_count": 21,
   "id": "abc53259",
   "metadata": {},
   "outputs": [
    {
     "data": {
      "text/latex": [
       "$\\displaystyle \\infty$"
      ],
      "text/plain": [
       "oo"
      ]
     },
     "execution_count": 21,
     "metadata": {},
     "output_type": "execute_result"
    }
   ],
   "source": [
    "integrate(f, (x, 1, +oo))"
   ]
  },
  {
   "cell_type": "markdown",
   "id": "ad44b598",
   "metadata": {},
   "source": [
    "Вывод: итеграл расходится, следовательно, расходиться и ряд"
   ]
  },
  {
   "cell_type": "markdown",
   "id": "a7c89dd2",
   "metadata": {},
   "source": [
    "## 2"
   ]
  },
  {
   "cell_type": "code",
   "execution_count": 26,
   "id": "9108f4c1",
   "metadata": {},
   "outputs": [],
   "source": [
    "f = (x**x)/factorial(x)"
   ]
  },
  {
   "cell_type": "code",
   "execution_count": 27,
   "id": "0f0a5a42",
   "metadata": {},
   "outputs": [
    {
     "data": {
      "text/latex": [
       "$\\displaystyle \\frac{x^{x}}{x!}$"
      ],
      "text/plain": [
       "x**x/factorial(x)"
      ]
     },
     "execution_count": 27,
     "metadata": {},
     "output_type": "execute_result"
    }
   ],
   "source": [
    "f"
   ]
  },
  {
   "cell_type": "code",
   "execution_count": 28,
   "id": "fd179090",
   "metadata": {},
   "outputs": [
    {
     "data": {
      "text/latex": [
       "$\\displaystyle \\int\\limits_{1}^{\\infty} \\frac{x^{x}}{x!}\\, dx$"
      ],
      "text/plain": [
       "Integral(x**x/factorial(x), (x, 1, oo))"
      ]
     },
     "execution_count": 28,
     "metadata": {},
     "output_type": "execute_result"
    }
   ],
   "source": [
    "integrate(f, (x, 1, +oo))"
   ]
  },
  {
   "cell_type": "markdown",
   "id": "0946a92d",
   "metadata": {},
   "source": [
    "Вывод: интеграл будет определен только в натуральных точках. Поэтому ряд будет сходится только в натуральльных точках"
   ]
  },
  {
   "cell_type": "markdown",
   "id": "030ad647",
   "metadata": {},
   "source": [
    "## 3"
   ]
  },
  {
   "cell_type": "code",
   "execution_count": 30,
   "id": "c6a96890",
   "metadata": {},
   "outputs": [],
   "source": [
    "f = x*(1-1/x)**x**2"
   ]
  },
  {
   "cell_type": "code",
   "execution_count": 31,
   "id": "cc1fadea",
   "metadata": {},
   "outputs": [
    {
     "data": {
      "text/latex": [
       "$\\displaystyle x \\left(1 - \\frac{1}{x}\\right)^{x^{2}}$"
      ],
      "text/plain": [
       "x*(1 - 1/x)**(x**2)"
      ]
     },
     "execution_count": 31,
     "metadata": {},
     "output_type": "execute_result"
    }
   ],
   "source": [
    "f"
   ]
  },
  {
   "cell_type": "code",
   "execution_count": 32,
   "id": "f9e6843b",
   "metadata": {},
   "outputs": [
    {
     "data": {
      "text/latex": [
       "$\\displaystyle \\int\\limits_{1}^{\\infty} x \\left(1 - \\frac{1}{x}\\right)^{x^{2}}\\, dx$"
      ],
      "text/plain": [
       "Integral(x*(1 - 1/x)**(x**2), (x, 1, oo))"
      ]
     },
     "execution_count": 32,
     "metadata": {},
     "output_type": "execute_result"
    }
   ],
   "source": [
    "integrate(f, (x, 1, +oo))"
   ]
  },
  {
   "cell_type": "markdown",
   "id": "82827231",
   "metadata": {},
   "source": [
    "Вывод: интгерал сходится (существет конечная функция f(x)), следовательно, сходится и ряд"
   ]
  },
  {
   "cell_type": "markdown",
   "id": "d8b100c8",
   "metadata": {},
   "source": [
    "## 4"
   ]
  },
  {
   "cell_type": "code",
   "execution_count": 33,
   "id": "6e32f9dd",
   "metadata": {},
   "outputs": [],
   "source": [
    "f = ((-1)**(x+1))/(2*x-log(x))"
   ]
  },
  {
   "cell_type": "code",
   "execution_count": 34,
   "id": "f784e842",
   "metadata": {},
   "outputs": [
    {
     "data": {
      "text/latex": [
       "$\\displaystyle \\frac{\\left(-1\\right)^{x + 1}}{2 x - \\log{\\left(x \\right)}}$"
      ],
      "text/plain": [
       "(-1)**(x + 1)/(2*x - log(x))"
      ]
     },
     "execution_count": 34,
     "metadata": {},
     "output_type": "execute_result"
    }
   ],
   "source": [
    "f"
   ]
  },
  {
   "cell_type": "code",
   "execution_count": 35,
   "id": "d1944ce8",
   "metadata": {},
   "outputs": [
    {
     "data": {
      "text/latex": [
       "$\\displaystyle \\int\\limits_{1}^{\\infty} \\frac{\\left(-1\\right)^{x + 1}}{2 x - \\log{\\left(x \\right)}}\\, dx$"
      ],
      "text/plain": [
       "Integral((-1)**(x + 1)/(2*x - log(x)), (x, 1, oo))"
      ]
     },
     "execution_count": 35,
     "metadata": {},
     "output_type": "execute_result"
    }
   ],
   "source": [
    "integrate(f, (x, 1, +oo))"
   ]
  },
  {
   "cell_type": "markdown",
   "id": "b838eb65",
   "metadata": {},
   "source": [
    "Вывод: интгерал сходится (существет конечная функция f(x)), следовательно, сходится и ряд"
   ]
  },
  {
   "cell_type": "markdown",
   "id": "8d81598c",
   "metadata": {},
   "source": [
    "## 5"
   ]
  },
  {
   "cell_type": "code",
   "execution_count": 47,
   "id": "857fab11",
   "metadata": {},
   "outputs": [],
   "source": [
    "f = ((x-2)**(x+1))/(x+2)/3**x"
   ]
  },
  {
   "cell_type": "code",
   "execution_count": 48,
   "id": "6e1eca5c",
   "metadata": {},
   "outputs": [
    {
     "data": {
      "text/latex": [
       "$\\displaystyle \\frac{3^{- x} \\left(x - 2\\right)^{x + 1}}{x + 2}$"
      ],
      "text/plain": [
       "(x - 2)**(x + 1)/(3**x*(x + 2))"
      ]
     },
     "execution_count": 48,
     "metadata": {},
     "output_type": "execute_result"
    }
   ],
   "source": [
    "f"
   ]
  },
  {
   "cell_type": "code",
   "execution_count": 49,
   "id": "e397644e",
   "metadata": {},
   "outputs": [
    {
     "data": {
      "text/latex": [
       "$\\displaystyle \\int\\limits_{1}^{\\infty} \\frac{3^{- x} \\left(x - 2\\right)^{x + 1}}{x + 2}\\, dx$"
      ],
      "text/plain": [
       "Integral((x - 2)**(x + 1)/(3**x*(x + 2)), (x, 1, oo))"
      ]
     },
     "execution_count": 49,
     "metadata": {},
     "output_type": "execute_result"
    }
   ],
   "source": [
    "integrate(f, (x, 1, +oo))"
   ]
  },
  {
   "cell_type": "markdown",
   "id": "7aae2684",
   "metadata": {},
   "source": [
    "Вывод: интгерал сходится (существет конечная функция f(x)), следовательно, сходится и ряд"
   ]
  },
  {
   "cell_type": "code",
   "execution_count": null,
   "id": "a9b8e0df",
   "metadata": {},
   "outputs": [],
   "source": []
  }
 ],
 "metadata": {
  "kernelspec": {
   "display_name": "Python 3 (ipykernel)",
   "language": "python",
   "name": "python3"
  },
  "language_info": {
   "codemirror_mode": {
    "name": "ipython",
    "version": 3
   },
   "file_extension": ".py",
   "mimetype": "text/x-python",
   "name": "python",
   "nbconvert_exporter": "python",
   "pygments_lexer": "ipython3",
   "version": "3.9.7"
  }
 },
 "nbformat": 4,
 "nbformat_minor": 5
}
