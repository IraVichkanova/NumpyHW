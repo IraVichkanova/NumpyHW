{
 "cells": [
  {
   "cell_type": "code",
   "execution_count": 17,
   "id": "db7d5d08",
   "metadata": {},
   "outputs": [],
   "source": [
    "#### Вычисления с помщью Numpy\n",
    "### Задание 1\n",
    "###Импортируйте библиотеку Numpy и дайте ей псевдоним np.\n",
    "###Создайте массив Numpy под названием a размером 5x2, то есть состоящий из 5 строк и 2 столбцов. \n",
    "###Первый столбец должен содержать числа 1, 2, 3, 3, 1, а второй - числа 6, 8, 11, 10, 7. \n",
    "###Будем считать, что каждый столбец - это признак, а строка - наблюдение. \n",
    "###Затем найдите среднее значение по каждому признаку, используя метод mean массива Numpy. \n",
    "###Результат запишите в массив mean_a, в нем должно быть 2 элемента.\n",
    "\n",
    "import numpy as np"
   ]
  },
  {
   "cell_type": "code",
   "execution_count": 27,
   "id": "a00e2968",
   "metadata": {},
   "outputs": [
    {
     "name": "stdout",
     "output_type": "stream",
     "text": [
      "[[ 1  6]\n",
      " [ 2  8]\n",
      " [ 3 11]\n",
      " [ 3 10]\n",
      " [ 1  7]]\n"
     ]
    }
   ],
   "source": [
    "a = np.array(\n",
    "    [[1, 2, 3, 3, 1], \n",
    "    [6, 8, 11, 10, 7]]\n",
    ").transpose()\n",
    "print(a)"
   ]
  },
  {
   "cell_type": "code",
   "execution_count": 28,
   "id": "00dff80b",
   "metadata": {},
   "outputs": [
    {
     "data": {
      "text/plain": [
       "array([[ 1,  6],\n",
       "       [ 2,  8],\n",
       "       [ 3, 11],\n",
       "       [ 3, 10],\n",
       "       [ 1,  7]])"
      ]
     },
     "execution_count": 28,
     "metadata": {},
     "output_type": "execute_result"
    }
   ],
   "source": [
    "a"
   ]
  },
  {
   "cell_type": "code",
   "execution_count": 29,
   "id": "02f7846c",
   "metadata": {
    "scrolled": true
   },
   "outputs": [
    {
     "data": {
      "text/plain": [
       "array([[ 1,  6],\n",
       "       [ 2,  8],\n",
       "       [ 3, 11],\n",
       "       [ 3, 10],\n",
       "       [ 1,  7]])"
      ]
     },
     "execution_count": 29,
     "metadata": {},
     "output_type": "execute_result"
    }
   ],
   "source": [
    "a"
   ]
  },
  {
   "cell_type": "code",
   "execution_count": 31,
   "id": "e1cde31d",
   "metadata": {},
   "outputs": [
    {
     "name": "stdout",
     "output_type": "stream",
     "text": [
      "Размерность a 2\n"
     ]
    }
   ],
   "source": [
    "print(\"Размерность a {}\".format(a.ndim))"
   ]
  },
  {
   "cell_type": "code",
   "execution_count": 32,
   "id": "1e561c87",
   "metadata": {},
   "outputs": [
    {
     "name": "stdout",
     "output_type": "stream",
     "text": [
      "Форма a (5, 2)\n"
     ]
    }
   ],
   "source": [
    "print(\"Форма a {}\".format(a.shape))"
   ]
  },
  {
   "cell_type": "code",
   "execution_count": 33,
   "id": "5cd8ee91",
   "metadata": {},
   "outputs": [
    {
     "name": "stdout",
     "output_type": "stream",
     "text": [
      "[2.  8.4]\n"
     ]
    }
   ],
   "source": [
    "mean_a = np.mean(a,axis=0)\n",
    "print(mean_a)"
   ]
  },
  {
   "cell_type": "code",
   "execution_count": 34,
   "id": "0ac80566",
   "metadata": {},
   "outputs": [],
   "source": [
    "###Задание 2\n",
    "###Вычислите массив a_centered, отняв от значений массива “а” средние значения соответствующих признаков, \n",
    "###содержащиеся в массиве mean_a. Вычисление должно производиться в одно действие. \n",
    "###Получившийся массив должен иметь размер 5x2.\n"
   ]
  },
  {
   "cell_type": "code",
   "execution_count": 35,
   "id": "34cd6846",
   "metadata": {},
   "outputs": [
    {
     "name": "stdout",
     "output_type": "stream",
     "text": [
      "[[-1.  -2.4]\n",
      " [ 0.  -0.4]\n",
      " [ 1.   2.6]\n",
      " [ 1.   1.6]\n",
      " [-1.  -1.4]]\n"
     ]
    }
   ],
   "source": [
    "a_centered = np.subtract(a, mean_a)\n",
    "print(a_centered)"
   ]
  },
  {
   "cell_type": "code",
   "execution_count": 36,
   "id": "ca8ab526",
   "metadata": {},
   "outputs": [],
   "source": [
    "###Задание 3\n",
    "###Найдите скалярное произведение столбцов массива a_centered. \n",
    "###В результате должна получиться величина a_centered_sp. \n",
    "###Затем поделите a_centered_sp на N-1, где N - число наблюдений.\n"
   ]
  },
  {
   "cell_type": "code",
   "execution_count": 37,
   "id": "37c2d9ae",
   "metadata": {},
   "outputs": [
    {
     "name": "stdout",
     "output_type": "stream",
     "text": [
      "8.0\n"
     ]
    }
   ],
   "source": [
    "a_centered_sp = a_centered.T[0]@a_centered.T[1]\n",
    "print(a_centered_sp)"
   ]
  },
  {
   "cell_type": "code",
   "execution_count": 38,
   "id": "0a07f753",
   "metadata": {},
   "outputs": [
    {
     "data": {
      "text/plain": [
       "2.0"
      ]
     },
     "execution_count": 38,
     "metadata": {},
     "output_type": "execute_result"
    }
   ],
   "source": [
    "a_centered_sp/(a_centered.shape[0]-1)"
   ]
  },
  {
   "cell_type": "code",
   "execution_count": 40,
   "id": "bf2040ba",
   "metadata": {},
   "outputs": [
    {
     "data": {
      "text/plain": [
       "2.0"
      ]
     },
     "execution_count": 40,
     "metadata": {},
     "output_type": "execute_result"
    }
   ],
   "source": [
    "np.cov(a.T)[0,1]"
   ]
  },
  {
   "cell_type": "code",
   "execution_count": null,
   "id": "4a837cb2",
   "metadata": {},
   "outputs": [],
   "source": []
  },
  {
   "cell_type": "code",
   "execution_count": null,
   "id": "efa380d6",
   "metadata": {},
   "outputs": [],
   "source": [
    "### Работа с Pandas"
   ]
  },
  {
   "cell_type": "code",
   "execution_count": 41,
   "id": "b753d6eb",
   "metadata": {},
   "outputs": [],
   "source": [
    "##Задание 1\n",
    "##Импортируйте библиотеку Pandas и дайте ей псевдоним pd. \n",
    "##Создайте датафрейм authors со столбцами author_id и author_name, в которых соответственно содержатся данные: [1, 2, 3] и \n",
    "##['Тургенев', 'Чехов', 'Островский'].\n",
    "##Затем создайте датафрейм book cо столбцами author_id, book_title и price, в которых соответственно содержатся данные:  \n",
    "##[1, 1, 1, 2, 2, 3, 3],\n",
    "##['Отцы и дети', 'Рудин', 'Дворянское гнездо', 'Толстый и тонкий', 'Дама с собачкой', 'Гроза', 'Таланты и поклонники'],\n",
    "##[450, 300, 350, 500, 450, 370, 290].\n"
   ]
  },
  {
   "cell_type": "code",
   "execution_count": 43,
   "id": "e9eb705f",
   "metadata": {},
   "outputs": [
    {
     "name": "stdout",
     "output_type": "stream",
     "text": [
      "   author_id author_name\n",
      "0          1    Тургенев\n",
      "1          2       Чехов\n",
      "2          3  Островский\n"
     ]
    }
   ],
   "source": [
    "import pandas as pd\n",
    "authors = pd.DataFrame({'author_id':[1, 2, 3], \n",
    "                        'author_name':['Тургенев', 'Чехов', 'Островский']}, \n",
    "                       columns=['author_id', 'author_name'])\n",
    "print(authors)\n"
   ]
  },
  {
   "cell_type": "code",
   "execution_count": 44,
   "id": "d02d2e6b",
   "metadata": {},
   "outputs": [
    {
     "name": "stdout",
     "output_type": "stream",
     "text": [
      "   author_id            book_title  price\n",
      "0          1           Отцы и дети    450\n",
      "1          1                 Рудин    300\n",
      "2          1     Дворянское гнездо    350\n",
      "3          2      Толстый и тонкий    500\n",
      "4          2       Дама с собачкой    450\n",
      "5          3                 Гроза    370\n",
      "6          3  Таланты и поклонники    290\n"
     ]
    }
   ],
   "source": [
    "book = pd.DataFrame({'author_id': [1, 1, 1, 2, 2, 3, 3],\n",
    "                    'book_title': ['Отцы и дети', 'Рудин', 'Дворянское гнездо', 'Толстый и тонкий', 'Дама с собачкой', 'Гроза', \n",
    "                                   'Таланты и поклонники'],\n",
    "                    'price': [450, 300, 350, 500, 450, 370, 290]},\n",
    "                   columns=['author_id', 'book_title', 'price'])\n",
    "print(book)"
   ]
  },
  {
   "cell_type": "code",
   "execution_count": 45,
   "id": "c49a66ec",
   "metadata": {},
   "outputs": [],
   "source": [
    "##Задание 2\n",
    "##Получите датафрейм authors_price, соединив датафреймы authors и books по полю author_id.\n"
   ]
  },
  {
   "cell_type": "code",
   "execution_count": 48,
   "id": "cfea1093",
   "metadata": {},
   "outputs": [
    {
     "name": "stdout",
     "output_type": "stream",
     "text": [
      "   author_id author_name            book_title  price\n",
      "0          1    Тургенев           Отцы и дети    450\n",
      "1          1    Тургенев                 Рудин    300\n",
      "2          1    Тургенев     Дворянское гнездо    350\n",
      "3          2       Чехов      Толстый и тонкий    500\n",
      "4          2       Чехов       Дама с собачкой    450\n",
      "5          3  Островский                 Гроза    370\n",
      "6          3  Островский  Таланты и поклонники    290\n"
     ]
    }
   ],
   "source": [
    "authors_price = pd.merge(authors, book, on = 'author_id', how = 'outer')\n",
    "print(authors_price)"
   ]
  },
  {
   "cell_type": "code",
   "execution_count": 49,
   "id": "b4b34904",
   "metadata": {},
   "outputs": [],
   "source": [
    "##Задание 3\n",
    "##Создайте датафрейм top5, в котором содержатся строки из authors_price с пятью самыми дорогими книгами.\n"
   ]
  },
  {
   "cell_type": "code",
   "execution_count": 51,
   "id": "7cc61108",
   "metadata": {},
   "outputs": [
    {
     "name": "stdout",
     "output_type": "stream",
     "text": [
      "   author_id author_name         book_title  price\n",
      "3          2       Чехов   Толстый и тонкий    500\n",
      "0          1    Тургенев        Отцы и дети    450\n",
      "4          2       Чехов    Дама с собачкой    450\n",
      "5          3  Островский              Гроза    370\n",
      "2          1    Тургенев  Дворянское гнездо    350\n"
     ]
    }
   ],
   "source": [
    "top5 = authors_price.nlargest(5, 'price')\n",
    "print(top5)"
   ]
  },
  {
   "cell_type": "code",
   "execution_count": 52,
   "id": "94e476c7",
   "metadata": {},
   "outputs": [],
   "source": [
    "##Задание 4\n",
    "##Создайте датафрейм authors_stat на основе информации из authors_price. В датафрейме authors_stat должны быть четыре столбца:\n",
    "##author_name, min_price, max_price и mean_price,\n",
    "##в которых должны содержаться соответственно имя автора, минимальная, максимальная и средняя цена на книги этого автора.\n"
   ]
  },
  {
   "cell_type": "code",
   "execution_count": 53,
   "id": "f6fbe342",
   "metadata": {},
   "outputs": [
    {
     "name": "stdout",
     "output_type": "stream",
     "text": [
      "Тургенев      3\n",
      "Чехов         2\n",
      "Островский    2\n",
      "Name: author_name, dtype: int64\n"
     ]
    }
   ],
   "source": [
    "authors_stat = authors_price['author_name'].value_counts()\n",
    "print(authors_stat)"
   ]
  },
  {
   "cell_type": "code",
   "execution_count": 55,
   "id": "58e7fed4",
   "metadata": {},
   "outputs": [
    {
     "name": "stdout",
     "output_type": "stream",
     "text": [
      "                price                      \n",
      "            min_price max_price  mean_price\n",
      "author_name                                \n",
      "Островский        290       370  330.000000\n",
      "Тургенев          300       450  366.666667\n",
      "Чехов             450       500  475.000000\n"
     ]
    }
   ],
   "source": [
    "authors_stat = authors_price.groupby('author_name').agg({'price':['min', 'max', 'mean']})\n",
    "authors_stat = authors_stat.rename(columns={'min':'min_price', 'max':'max_price', 'mean':'mean_price'})\n",
    "print(authors_stat)"
   ]
  },
  {
   "cell_type": "code",
   "execution_count": 56,
   "id": "4dac7663",
   "metadata": {},
   "outputs": [],
   "source": [
    "#Задание 5**\n",
    "#Создайте новый столбец в датафрейме authors_price под названием cover, в нем будут располагаться данные о том, \n",
    "#какая обложка у данной книги - твердая или мягкая. В этот столбец поместите данные из следующего списка:\n",
    "#['твердая', 'мягкая', 'мягкая', 'твердая', 'твердая', 'мягкая', 'мягкая'].\n",
    "#Просмотрите документацию по функции pd.pivot_table с помощью вопросительного знака.\n",
    "#Для каждого автора посчитайте суммарную стоимость книг в твердой и мягкой обложке. \n",
    "#Используйте для этого функцию pd.pivot_table. При этом столбцы должны называться \"твердая\" и \"мягкая\", \n",
    "#а индексами должны быть фамилии авторов. Пропущенные значения стоимостей заполните нулями, \n",
    "#при необходимости загрузите библиотеку Numpy.\n",
    "#Назовите полученный датасет book_info и сохраните его в формат pickle под названием \"book_info.pkl\". \n",
    "#Затем загрузите из этого файла датафрейм и назовите его book_info2. \n",
    "#Удостоверьтесь, что датафреймы book_info и book_info2 идентичны.\n"
   ]
  },
  {
   "cell_type": "code",
   "execution_count": 57,
   "id": "26ebbd21",
   "metadata": {},
   "outputs": [
    {
     "name": "stdout",
     "output_type": "stream",
     "text": [
      "   author_id author_name            book_title  price    cover\n",
      "0          1    Тургенев           Отцы и дети    450  твердая\n",
      "1          1    Тургенев                 Рудин    300   мягкая\n",
      "2          1    Тургенев     Дворянское гнездо    350   мягкая\n",
      "3          2       Чехов      Толстый и тонкий    500  твердая\n",
      "4          2       Чехов       Дама с собачкой    450  твердая\n",
      "5          3  Островский                 Гроза    370   мягкая\n",
      "6          3  Островский  Таланты и поклонники    290   мягкая\n"
     ]
    }
   ],
   "source": [
    "authors_price['cover'] = ['твердая', 'мягкая', 'мягкая', 'твердая', 'твердая', 'мягкая', 'мягкая']\n",
    "print(authors_price)"
   ]
  },
  {
   "cell_type": "code",
   "execution_count": 58,
   "id": "1e306a39",
   "metadata": {},
   "outputs": [
    {
     "name": "stdout",
     "output_type": "stream",
     "text": [
      "cover        мягкая  твердая\n",
      "author_name                 \n",
      "Островский    660.0      0.0\n",
      "Тургенев      650.0    450.0\n",
      "Чехов           0.0    950.0\n"
     ]
    }
   ],
   "source": [
    "book_info = pd.pivot_table(authors_price, values='price', index=['author_name'], columns=['cover'], aggfunc=np.sum)\n",
    "book_info['мягкая'] = book_info['мягкая'].fillna(0)\n",
    "book_info['твердая'] = book_info['твердая'].fillna(0)\n",
    "print(book_info)"
   ]
  },
  {
   "cell_type": "code",
   "execution_count": 61,
   "id": "bfc3994b",
   "metadata": {},
   "outputs": [],
   "source": [
    "book_info.to_pickle(\"book_info.pkl\")"
   ]
  },
  {
   "cell_type": "code",
   "execution_count": 63,
   "id": "e583054f",
   "metadata": {},
   "outputs": [
    {
     "name": "stdout",
     "output_type": "stream",
     "text": [
      "cover        мягкая  твердая\n",
      "author_name                 \n",
      "Островский    660.0      0.0\n",
      "Тургенев      650.0    450.0\n",
      "Чехов           0.0    950.0\n"
     ]
    }
   ],
   "source": [
    "book_info2 = pd.read_pickle(\"book_info.pkl\")\n",
    "print(book_info2)"
   ]
  },
  {
   "cell_type": "code",
   "execution_count": null,
   "id": "add51ddd",
   "metadata": {},
   "outputs": [],
   "source": []
  }
 ],
 "metadata": {
  "kernelspec": {
   "display_name": "Python 3 (ipykernel)",
   "language": "python",
   "name": "python3"
  },
  "language_info": {
   "codemirror_mode": {
    "name": "ipython",
    "version": 3
   },
   "file_extension": ".py",
   "mimetype": "text/x-python",
   "name": "python",
   "nbconvert_exporter": "python",
   "pygments_lexer": "ipython3",
   "version": "3.9.7"
  }
 },
 "nbformat": 4,
 "nbformat_minor": 5
}
